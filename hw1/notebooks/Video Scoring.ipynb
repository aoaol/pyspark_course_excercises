{
 "cells": [
  {
   "cell_type": "code",
   "execution_count": 79,
   "id": "4b94b2e0-3796-411b-ad82-1b56e7f89e1f",
   "metadata": {},
   "outputs": [],
   "source": [
    "import pyspark\n",
    "from pyspark.sql.functions import *\n",
    "from pyspark.sql.window import Window\n",
    "from pyspark.sql.types import *\n",
    "from pyspark.sql import SparkSession\n",
    "import pandas as pd\n",
    "import timeit\n",
    "import time"
   ]
  },
  {
   "cell_type": "code",
   "execution_count": 80,
   "id": "ddfbb8d9-c3d1-45f9-9c81-609c63dcd8df",
   "metadata": {},
   "outputs": [],
   "source": [
    "from pyspark.sql.column import Column\n",
    "from pyspark.sql.column import _to_java_column\n",
    "from pyspark.sql.column import _to_seq\n",
    "from pyspark.sql.functions import col"
   ]
  },
  {
   "cell_type": "code",
   "execution_count": 81,
   "id": "94a4b2c0-c982-4bbf-99fd-7f0777b49b6d",
   "metadata": {},
   "outputs": [],
   "source": [
    "def timing(f):\n",
    "    def wrap(*args, **kwargs):\n",
    "        time1 = time.time()\n",
    "        ret = f(*args, **kwargs)\n",
    "        time2 = time.time()\n",
    "        print('{:s} function took {:.3f} ms'.format(f.__name__, (time2-time1)*1000.0))\n",
    "\n",
    "        return ret\n",
    "    return wrap"
   ]
  },
  {
   "cell_type": "code",
   "execution_count": 82,
   "id": "11ab7cf0-dd3c-48fb-a44e-86ee77908a36",
   "metadata": {},
   "outputs": [],
   "source": [
    "@timing\n",
    "def dfCollect( df ):\n",
    "  list = df.collect()\n",
    "\n",
    "@timing\n",
    "def dfShow( df ):\n",
    "  df.show()\n",
    "\n",
    "@timing\n",
    "def dfCount( df ):\n",
    "  print( df.count() )"
   ]
  },
  {
   "cell_type": "code",
   "execution_count": 83,
   "id": "b2d4a16a-b2c3-46e8-9597-b9d6e73bb671",
   "metadata": {},
   "outputs": [
    {
     "data": {
      "text/html": [
       "\n",
       "            <div>\n",
       "                <p><b>SparkSession - in-memory</b></p>\n",
       "                \n",
       "        <div>\n",
       "            <p><b>SparkContext</b></p>\n",
       "\n",
       "            <p><a href=\"http://e6b52aae4bcb:4040\">Spark UI</a></p>\n",
       "\n",
       "            <dl>\n",
       "              <dt>Version</dt>\n",
       "                <dd><code>v3.4.0</code></dd>\n",
       "              <dt>Master</dt>\n",
       "                <dd><code>local</code></dd>\n",
       "              <dt>AppName</dt>\n",
       "                <dd><code>pyspark-shell</code></dd>\n",
       "            </dl>\n",
       "        </div>\n",
       "        \n",
       "            </div>\n",
       "        "
      ],
      "text/plain": [
       "<pyspark.sql.session.SparkSession at 0x7fbe29d7aed0>"
      ]
     },
     "execution_count": 83,
     "metadata": {},
     "output_type": "execute_result"
    }
   ],
   "source": [
    "spark = SparkSession.builder.master(\"local\") \\\n",
    "    .config('spark.sql.autoBroadcastJoinThreshold', 0) \\\n",
    "    .config('spark.sql.adaptive.enabled', 'false') \\\n",
    "    .getOrCreate()\n",
    "spark"
   ]
  },
  {
   "cell_type": "code",
   "execution_count": 84,
   "id": "1c2a19f1-09d4-433b-bb14-495e1f69bf43",
   "metadata": {},
   "outputs": [
    {
     "name": "stdout",
     "output_type": "stream",
     "text": [
      "+-----------+--------------------+--------------------+-----------+--------------------+-------+------+--------+-------------+--------------------+-----+\n",
      "|   video_id|               title|       channel_title|category_id|                tags|  views| likes|dislikes|comment_total|      thumbnail_link| date|\n",
      "+-----------+--------------------+--------------------+-----------+--------------------+-------+------+--------+-------------+--------------------+-----+\n",
      "|XpVt6Z1Gjjo|1 YEAR OF VLOGGIN...|    Logan Paul Vlogs|         24|logan paul vlog|l...|4394029|320053|    5931|        46245|https://i.ytimg.c...|13.09|\n",
      "|K4wEI5zhHB0|iPhone X — Introd...|               Apple|         28|Apple|iPhone 10|i...|7860119|185853|   26679|            0|https://i.ytimg.c...|13.09|\n",
      "|cLdxuaxaQwc|         My Response|           PewDiePie|         22|              [none]|5845909|576597|   39774|       170708|https://i.ytimg.c...|13.09|\n",
      "|WYYvHb03Eog|Apple iPhone X fi...|           The Verge|         28|apple iphone x ha...|2642103| 24975|    4542|        12829|https://i.ytimg.c...|13.09|\n",
      "|sjlHnJvXdQs|   iPhone X (parody)|          jacksfilms|         23|jacksfilms|parody...|1168130| 96666|     568|         6666|https://i.ytimg.c...|13.09|\n",
      "|cMKX2tE5Luk|The Disaster Arti...|                 A24|          1|a24|a24 films|a24...|1311445| 34507|     544|         3040|https://i.ytimg.c...|13.09|\n",
      "|8wNr-NQImFg|The Check In: HUD...|Late Night with S...|         23|Late night|Seth M...| 666169|  9985|     297|         1071|https://i.ytimg.c...|13.09|\n",
      "|_HTXMhKWqnA|iPhone X Impressi...|    Marques Brownlee|         28|iPhone X|iphone x...|1728614| 74062|    2180|        15297|https://i.ytimg.c...|13.09|\n",
      "|_ANP3HR1jsM|ATTACKED BY A POL...|    RomanAtwoodVlogs|         22|Roman Atwood|Roma...|1338533| 69687|     678|         5643|https://i.ytimg.c...|13.09|\n",
      "|zgLtEob6X-Q|Honest Trailers -...|      Screen Junkies|          1|screenjunkies|scr...|1056891| 29943|     878|         4046|https://i.ytimg.c...|13.09|\n",
      "|Ayb_2qbZHm4| Honest College Tour|        CollegeHumor|         23|Collegehumor|CH o...| 859289| 34485|     726|         1914|https://i.ytimg.c...|13.09|\n",
      "|CsdzflTXBVQ|Best Floyd Maywea...|     Awkward Puppets|         23|best floyd maywea...| 452477| 28050|     405|         2745|https://i.ytimg.c...|13.09|\n",
      "|l864IBj7cgw|Jennifer Lawrence...|The Tonight Show ...|         23|The Tonight Show|...| 258781|  8085|     303|          726|https://i.ytimg.c...|13.09|\n",
      "|4MkC65emkG4|Hand In Hand A Be...|                 MTV|         24|mtv|video|online|...| 274358|  9215|     477|          838|https://i.ytimg.c...|13.09|\n",
      "|vu_9muoxT50|Colin Cloud: Mind...|America's Got Talent|         24|America's Got Tal...| 473691| 14740|     415|         1696|https://i.ytimg.c...|13.09|\n",
      "|1L7JFN7tQLs|iPhone X Hands on...|   Jonathan Morrison|         28|Apple|iPhone X|iP...| 514972| 18936|     641|         3817|https://i.ytimg.c...|13.09|\n",
      "|ZQK1F0wz6z4|What Do You Want ...| Wong Fu Productions|         24|panda|what should...| 282858| 14870|     300|         1398|https://i.ytimg.c...|13.09|\n",
      "|T_PuZBdT2iM|getting into a co...|               ProZD|          1|skit|korean|langu...|1582683| 65749|    1531|         3598|https://i.ytimg.c...|13.09|\n",
      "|w8fAellnPns|Juicy Chicken Bre...| You Suck At Cooking|         26|how to|cooking|re...| 479951| 23945|     640|         1941|https://i.ytimg.c...|13.09|\n",
      "|UCrBICYM0yM|Downsizing (2017)...|  Paramount Pictures|          1|downsizing|previe...|2693468|  7941|     302|         1432|https://i.ytimg.c...|13.09|\n",
      "+-----------+--------------------+--------------------+-----------+--------------------+-------+------+--------+-------------+--------------------+-----+\n",
      "only showing top 20 rows\n",
      "\n"
     ]
    }
   ],
   "source": [
    "videos = spark.read.option('header', 'true').option(\"inferSchema\", \"true\").csv('../datasets/USvideos.csv')\n",
    "videos.show()    # 7998"
   ]
  },
  {
   "cell_type": "code",
   "execution_count": 85,
   "id": "c2b5dd24-468d-43c4-94ec-429d66826dbc",
   "metadata": {},
   "outputs": [
    {
     "name": "stdout",
     "output_type": "stream",
     "text": [
      "+--------------------+--------------------+---+--------------------+--------------------+----------+\n",
      "|                kind|                etag| id|           channelId|               title|assignable|\n",
      "+--------------------+--------------------+---+--------------------+--------------------+----------+\n",
      "|youtube#videoCate...|\"m2yskBQFythfE4ir...|  1|UCBR8-60-B28hp2Bm...|    Film & Animation|      true|\n",
      "|youtube#videoCate...|\"m2yskBQFythfE4ir...|  2|UCBR8-60-B28hp2Bm...|    Autos & Vehicles|      true|\n",
      "|youtube#videoCate...|\"m2yskBQFythfE4ir...| 10|UCBR8-60-B28hp2Bm...|               Music|      true|\n",
      "|youtube#videoCate...|\"m2yskBQFythfE4ir...| 15|UCBR8-60-B28hp2Bm...|      Pets & Animals|      true|\n",
      "|youtube#videoCate...|\"m2yskBQFythfE4ir...| 17|UCBR8-60-B28hp2Bm...|              Sports|      true|\n",
      "|youtube#videoCate...|\"m2yskBQFythfE4ir...| 18|UCBR8-60-B28hp2Bm...|        Short Movies|     false|\n",
      "|youtube#videoCate...|\"m2yskBQFythfE4ir...| 19|UCBR8-60-B28hp2Bm...|     Travel & Events|      true|\n",
      "|youtube#videoCate...|\"m2yskBQFythfE4ir...| 20|UCBR8-60-B28hp2Bm...|              Gaming|      true|\n",
      "|youtube#videoCate...|\"m2yskBQFythfE4ir...| 21|UCBR8-60-B28hp2Bm...|       Videoblogging|     false|\n",
      "|youtube#videoCate...|\"m2yskBQFythfE4ir...| 22|UCBR8-60-B28hp2Bm...|      People & Blogs|      true|\n",
      "|youtube#videoCate...|\"m2yskBQFythfE4ir...| 23|UCBR8-60-B28hp2Bm...|              Comedy|      true|\n",
      "|youtube#videoCate...|\"m2yskBQFythfE4ir...| 24|UCBR8-60-B28hp2Bm...|       Entertainment|      true|\n",
      "|youtube#videoCate...|\"m2yskBQFythfE4ir...| 25|UCBR8-60-B28hp2Bm...|     News & Politics|      true|\n",
      "|youtube#videoCate...|\"m2yskBQFythfE4ir...| 26|UCBR8-60-B28hp2Bm...|       Howto & Style|      true|\n",
      "|youtube#videoCate...|\"m2yskBQFythfE4ir...| 27|UCBR8-60-B28hp2Bm...|           Education|      true|\n",
      "|youtube#videoCate...|\"m2yskBQFythfE4ir...| 28|UCBR8-60-B28hp2Bm...|Science & Technology|      true|\n",
      "|youtube#videoCate...|\"m2yskBQFythfE4ir...| 29|UCBR8-60-B28hp2Bm...|Nonprofits & Acti...|      true|\n",
      "|youtube#videoCate...|\"m2yskBQFythfE4ir...| 30|UCBR8-60-B28hp2Bm...|              Movies|     false|\n",
      "|youtube#videoCate...|\"m2yskBQFythfE4ir...| 31|UCBR8-60-B28hp2Bm...|     Anime/Animation|     false|\n",
      "|youtube#videoCate...|\"m2yskBQFythfE4ir...| 32|UCBR8-60-B28hp2Bm...|    Action/Adventure|     false|\n",
      "+--------------------+--------------------+---+--------------------+--------------------+----------+\n",
      "only showing top 20 rows\n",
      "\n"
     ]
    }
   ],
   "source": [
    "categories = spark.read.option(\"multiline\",\"true\").json(\"../datasets/US_category_id.json\")\\\n",
    "                .select( explode(\"items\")).select('col.kind','col.etag','col.id','col.snippet.channelId','col.snippet.title','col.snippet.assignable')\n",
    "categories.show()"
   ]
  },
  {
   "cell_type": "code",
   "execution_count": 86,
   "id": "e3ac9db0-5f76-45bd-8885-015a26656d2a",
   "metadata": {},
   "outputs": [
    {
     "name": "stdout",
     "output_type": "stream",
     "text": [
      "+-----------+--------------------+-----+-------+\n",
      "|   video_id|        comment_text|likes|replies|\n",
      "+-----------+--------------------+-----+-------+\n",
      "|XpVt6Z1Gjjo|Logan Paul it's y...|    4|      0|\n",
      "|XpVt6Z1Gjjo|I've been followi...|    3|      0|\n",
      "|XpVt6Z1Gjjo|Say hi to Kong an...|    3|      0|\n",
      "|XpVt6Z1Gjjo| MY FAN . attendance|    3|      0|\n",
      "|XpVt6Z1Gjjo|         trending 😉|    3|      0|\n",
      "|XpVt6Z1Gjjo|#1 on trending AY...|    3|      0|\n",
      "|XpVt6Z1Gjjo|The end though 😭...|    4|      0|\n",
      "|XpVt6Z1Gjjo|#1 trending!!!!!!!!!|    3|      0|\n",
      "|XpVt6Z1Gjjo|Happy one year vl...|    3|      0|\n",
      "|XpVt6Z1Gjjo|You and your shit...|    0|      0|\n",
      "|XpVt6Z1Gjjo|There should be a...|    0|      0|\n",
      "|XpVt6Z1Gjjo|Dear Logan, I rea...|    0|      0|\n",
      "|XpVt6Z1Gjjo|Honestly Evan is ...|    0|      0|\n",
      "|XpVt6Z1Gjjo|Casey is still be...|    0|      0|\n",
      "|XpVt6Z1Gjjo|aw geez rick this...|    0|      0|\n",
      "|XpVt6Z1Gjjo|He happy cause he...|    0|      0|\n",
      "|XpVt6Z1Gjjo|Ayyyyoooo Logang ...|    1|      0|\n",
      "|XpVt6Z1Gjjo|Bro y didnt u giv...|    0|      0|\n",
      "|XpVt6Z1Gjjo|It's been fun wat...|    3|      0|\n",
      "|XpVt6Z1Gjjo|Made a lot of peo...|    0|      0|\n",
      "+-----------+--------------------+-----+-------+\n",
      "only showing top 20 rows\n",
      "\n"
     ]
    }
   ],
   "source": [
    "comments_schema = StructType([ \\\n",
    "    StructField(\"video_id\", StringType(), True), \\\n",
    "    StructField(\"comment_text\", StringType(), True), \\\n",
    "    StructField(\"likes\", IntegerType(), True), \\\n",
    "    StructField(\"replies\", IntegerType(), True)])\n",
    "comments = spark.read.option('header', 'true').option(\"mode\", \"DROPMALFORMED\").schema(comments_schema).csv('../datasets/UScomments.csv')\n",
    "comments.show() #691722"
   ]
  },
  {
   "cell_type": "code",
   "execution_count": 87,
   "id": "65b65ca2-1d10-4928-a39c-5ec394aa21b4",
   "metadata": {},
   "outputs": [],
   "source": [
    "#\n",
    "# 1. scored_videos\n",
    "#\n",
    "# Выбор джойна:\n",
    "#    * Broadcast не подходит из-за больших рекордсетов.\n",
    "#    * (Пред)разбиение на партиции с вменяемым их количеством по осмысленному ключу не очень подходит из-за отсутсвия такого ключа.\n",
    "#      Ключ video_id высокоселективный. Соление тоже не походит, т.к. оно работает для разрезания больших партиций.\n",
    "#    * Ключ высокоселективный, но Блум не походит, т.к. отсечь лишнего из датасетов нечего - любой video_id есть и там, и там.\n",
    "#    * Остается бакетирование, что по сути - партиционирование по хэшу, т.е. похоже на партиции.\n",
    "#\n",
    "# В изначальном рекордсете videos нет уникальности по video_id. Туда как бы время от времени записываются обновленные статистики по просмотрам.\n",
    "#   Я не удержался и сделал предварительную очистку video - беру строку с максимальным числом просмотров, что очевидно - самая последняя версия статистики.\n",
    "#   В рекордсете comments похожий артефакт в данных, но его я уже не стал очищать, т.к. цель курса не в этом.\n",
    "#\n",
    "# Кстати, в условии задачи: \"Но она должна включать в себя просмотры, лайки, дизлайки видео, лайки и дизлайки к комментариям к этому видео.\"\n",
    "#   К сожалению, дизлайков к комментариям в рекордсете нет, только количество ответов на коммент. Но на смысл это особо не влияет.\n",
    "#"
   ]
  },
  {
   "cell_type": "code",
   "execution_count": 88,
   "id": "f17e8446-54c4-45c8-8c5d-26054be2b76b",
   "metadata": {},
   "outputs": [],
   "source": [
    "vid = Window.partitionBy(\"video_id\").orderBy(col(\"views\").desc())\n",
    "videos_prep = ( \n",
    "    videos.select(\"video_id\",\"category_id\",\"tags\",\n",
    "      row_number().over( vid ).alias(\"rn_views\"),\n",
    "      col(\"views\").alias(\"v_views\"),         col(\"likes\").alias(\"v_likes\"),\n",
    "      col(\"dislikes\").alias(\"v_dislikes\"),   col(\"comment_total\").alias(\"v_comm_tot\"),\n",
    "    )\n",
    "    .where( (col(\"rn_views\") == lit(1))  &  (col(\"v_views\") > lit(0)) )\n",
    ")"
   ]
  },
  {
   "cell_type": "code",
   "execution_count": 92,
   "id": "0df87048-9d66-4de9-add4-f4052921f0c3",
   "metadata": {},
   "outputs": [],
   "source": [
    "# rm -r work/spark-warehouse/videos_bucket\n",
    "# rm -r work/spark-warehouse/comments_bucket\n",
    "\n",
    "videos_prep.repartition(1).write \\\n",
    "    .bucketBy( 16, 'video_id') \\\n",
    "    .saveAsTable('videos_bucket', format='csv', mode='overwrite')\n",
    "\n",
    "comments.write \\\n",
    "    .bucketBy( 16, 'video_id') \\\n",
    "    .saveAsTable('comments_bucket', format='csv', mode='overwrite')"
   ]
  },
  {
   "cell_type": "code",
   "execution_count": 93,
   "id": "57d0b6b9-9c71-4381-8892-3560a6aaef1c",
   "metadata": {},
   "outputs": [],
   "source": [
    "videos_bucketed = spark.table('videos_bucket')\n",
    "comments_bucketed = spark.table('comments_bucket')"
   ]
  },
  {
   "cell_type": "code",
   "execution_count": 94,
   "id": "01289b02-b073-4d40-b06a-e328b181e280",
   "metadata": {},
   "outputs": [],
   "source": [
    "# Бакетированный вариант (с предварительной очисткой).\n",
    "\n",
    "scored_videos = ( \n",
    "  videos_bucketed\n",
    "  .join( comments_bucketed,'video_id','left') \n",
    "  .groupBy(\"video_id\",\"category_id\",\"v_likes\",\"v_views\",\"v_dislikes\",\"v_comm_tot\")\n",
    "    .agg(\n",
    "      count( lit(1) ).alias(\"com_count\"),\n",
    "      sum(\"likes\").alias(\"com_likes\"),\n",
    "      sum(\"replies\").alias(\"com_replies\")\n",
    "    )\n",
    "  .withColumn(\"views_all\", col(\"v_views\") + col(\"v_comm_tot\") + col(\"com_likes\") + col(\"com_replies\") )\n",
    "  .withColumn(\"likes_vws\", (col(\"v_likes\") / (col(\"views_all\")) * 100)) \n",
    "  .withColumn(\"disl_vws\", (col(\"v_dislikes\") / col(\"views_all\") * 100)) \n",
    "  .withColumn(\"score\", (col(\"likes_vws\") - col(\"disl_vws\")) * (sqrt( col(\"views_all\") + lit(10000) ) / 100) )\n",
    ")"
   ]
  },
  {
   "cell_type": "code",
   "execution_count": 95,
   "id": "c611e9aa-6a05-49a4-8af5-62e7378797b9",
   "metadata": {},
   "outputs": [],
   "source": [
    "# Небакетированный вариант с очисткой вместе.\n",
    "vid = Window.partitionBy(\"video_id\").orderBy(col(\"views\").desc())\n",
    "\n",
    "scored_videos_nonbucketed = ( \n",
    "    videos.select(\"video_id\",\"category_id\",\n",
    "      row_number().over( vid ).alias(\"rn_views\"),\n",
    "      col(\"views\").alias(\"v_views\"),         col(\"likes\").alias(\"v_likes\"),\n",
    "      col(\"dislikes\").alias(\"v_dislikes\"),   col(\"comment_total\").alias(\"v_comm_tot\")\n",
    "    )\n",
    "    .where( (col(\"rn_views\") == lit(1))  &  (col(\"v_views\") > lit(0)) )\n",
    "  .join( comments,'video_id','left') \n",
    "  .groupBy(\"video_id\",\"category_id\",\"v_likes\",\"v_views\",\"v_dislikes\",\"v_comm_tot\")\n",
    "    .agg(\n",
    "      count( lit(1) ).alias(\"com_count\"),\n",
    "      sum(\"likes\").alias(\"com_likes\"),\n",
    "      sum(\"replies\").alias(\"com_replies\")\n",
    "    )\n",
    "  .withColumn(\"views_all\", col(\"v_views\") + col(\"v_comm_tot\") + col(\"com_likes\") + col(\"com_replies\") )\n",
    "  .withColumn(\"likes_vws\", (col(\"v_likes\") / (col(\"views_all\")) * 100)) \n",
    "  .withColumn(\"disl_vws\", (col(\"v_dislikes\") / col(\"views_all\") * 100)) \n",
    "  .withColumn(\"score\", (col(\"likes_vws\") - col(\"disl_vws\")) * (sqrt( col(\"views_all\") + lit(10000) ) / 100) )\n",
    ")"
   ]
  },
  {
   "cell_type": "code",
   "execution_count": 96,
   "id": "759388bd-11be-4276-bc7a-29283ec1800b",
   "metadata": {},
   "outputs": [
    {
     "name": "stdout",
     "output_type": "stream",
     "text": [
      "Bucketed:\n",
      "\n",
      "+-----------+-----------+-------+-------+----------+----------+---------+---------+-----------+---------+------------------+--------------------+------------------+\n",
      "|   video_id|category_id|v_likes|v_views|v_dislikes|v_comm_tot|com_count|com_likes|com_replies|views_all|         likes_vws|            disl_vws|             score|\n",
      "+-----------+-----------+-------+-------+----------+----------+---------+---------+-----------+---------+------------------+--------------------+------------------+\n",
      "|--JinobXWPk|         15|  38949|1319945|       533|      6768|      100|       19|          1|  1326733|2.9357074859824848| 0.04017387070344975| 33.47734022533458|\n",
      "|-LoSw4o2zDQ|         26|   4715|  62600|        29|       483|      300|      567|        161|    63811| 7.389008164736488|0.045446709814922194| 19.95111988385199|\n",
      "|0lDRz8qmXpE|         23|  24509| 467127|      2302|      3058|      300|      102|         31|   470318| 5.211155005762059|  0.4894560701482827| 32.72372416871783|\n",
      "|1KCZHHMZVGQ|         24|   3772| 245620|       223|       556|      497|      210|        122|   246508|1.5301734629302093| 0.09046359550197154| 7.291643689690164|\n",
      "|1eQXF7JbbGE|         24|    179|   9761|         7|        59|       25|      138|         28|     9986| 1.792509513318646|  0.0700981373923493|  2.43500482843742|\n",
      "|2HcqS508lIo|         28|  18808| 740821|       585|       678|      600|     1113|        397|   743009| 2.531328691846263| 0.07873390497288728| 21.28265888465381|\n",
      "|2Hz4sDjXPQY|          1|   2003| 288222|        77|       208|      287|     3692|        310|   292432|0.6849455599934343|0.026330907698199922|3.6219734211371826|\n",
      "|2LkEa-JV9Kc|         23|  17652| 508618|       468|       854|      100|       54|         17|   509543|3.4642807378376306|  0.0918470080052125| 24.30827680845588|\n",
      "|2YGrrsKs-Xg|         23|  14600|1287641|      1220|      2294|      100|        9|          0|  1289944|1.1318320795321346| 0.09457774911158934|11.826264243464422|\n",
      "|3TDk34hnSXc|         27|   5796| 110725|        81|       574|      400|      363|         38|   111700| 5.188898836168308| 0.07251566696508505|17.848772362660412|\n",
      "|40M4DF8aIYs|         26|   1790|  32213|        12|       148|      200|      688|         74|    33123| 5.404099870180841|0.036228602481659274|11.146963402033842|\n",
      "|4F2KWDQQMhY|         22|  23482| 284397|        56|      1674|      500|       63|         22|   286156|  8.20601350312417|0.019569745173961057|44.550804438747214|\n",
      "|4yCkkOvIkUI|         24|     33|   5662|        21|        13|       19|       36|          4|     5715|0.5774278215223096|  0.3674540682414698|0.2632220117325748|\n",
      "|5eSSL8hRU_E|         10|    316|  59537|         5|        40|      114|     1028|         50|    60655|0.5209793092078147|0.008243343500123651| 1.362903893853531|\n",
      "|6SaFJLHa-Vk|          1|  27542| 556461|       295|      2967|      100|      666|        110|   560204| 4.916423302939643| 0.05265938836566679|   36.727182756382|\n",
      "|6lsPIlsbqsM|         24|    104|  16370|        17|        11|       29|       44|          2|    16427|0.6331040360382297| 0.10348815973701832|0.8609638719553533|\n",
      "|6vGg-jJl30A|         17|  12908| 214484|       125|       937|      200|       13|          4|   215438| 5.991514960220574|0.058021333283821794|  28.1724126931334|\n",
      "|7KS2oJPzeZk|         24|  40172|4171468|      2041|      3018|      598|      292|        111|  4174889|0.9622291754343648|  0.0488875273091093| 18.68423123419429|\n",
      "|7TN09IP5JuI|         26| 196868|5066207|      2083|     22920|      500|       34|          0|  5089161|3.8683783044002733| 0.04093012581052162| 86.42883948211869|\n",
      "|7wsYiuNERZA|         24|   1249|  29894|        49|       810|      300|      395|        219|    31318|3.9881218468612296| 0.15645954403218598| 7.788554656473156|\n",
      "+-----------+-----------+-------+-------+----------+----------+---------+---------+-----------+---------+------------------+--------------------+------------------+\n",
      "only showing top 20 rows\n",
      "\n",
      "dfShow function took 328.320 ms\n",
      "\n",
      "\n",
      "Non-bucketed:\n",
      "\n",
      "+-----------+-----------+-------+-------+----------+----------+---------+---------+-----------+---------+------------------+--------------------+------------------+\n",
      "|   video_id|category_id|v_likes|v_views|v_dislikes|v_comm_tot|com_count|com_likes|com_replies|views_all|         likes_vws|            disl_vws|             score|\n",
      "+-----------+-----------+-------+-------+----------+----------+---------+---------+-----------+---------+------------------+--------------------+------------------+\n",
      "|4yCkkOvIkUI|         24|     33|   5662|        21|        13|       19|       36|          4|     5715|0.5774278215223096|  0.3674540682414698|0.2632220117325748|\n",
      "|7TN09IP5JuI|         26| 196868|5066207|      2083|     22920|      500|       34|          0|  5089161|3.8683783044002733| 0.04093012581052162| 86.42883948211869|\n",
      "|Bo-qp-Zu0OY|         19|    179|  21654|         1|        30|       22|       71|          8|    21763|0.8224968984055506|0.004594954739695814| 1.457679336883666|\n",
      "|JkqTeQHFoBY|          1|   1573| 138900|        14|        84|      134|      558|         98|   139640|1.1264680607275852|0.010025780578630765|4.3187704861946985|\n",
      "|K7pQsR8WFSo|         27|  29671| 633374|       284|      2200|      400|      104|         56|   635734|4.6672035788553075| 0.04467277194549922| 37.14553700362152|\n",
      "|RE-far-FvRs|         22|  13781| 323280|       292|      2024|      500|       40|          4|   325348| 4.235772157812558| 0.08975005225174275| 24.00929863862952|\n",
      "|TzyraAp3jaY|         27|    842|  84257|         1|        98|      250|     1126|         48|    85529|0.9844614107495703|0.001169194074524...|3.0391365756758715|\n",
      "|WQjO1mMCPg4|         23|  64553|2318203|      6770|      7843|      500|       61|          5|  2326112|2.7751458227290864| 0.29104359549325226|37.967875287393156|\n",
      "|_r5eTelhpmQ|         10|   1880|  51914|        49|       102|      289|      749|        123|    52888| 3.554681591287249|  0.0926486159431251| 8.681906248107094|\n",
      "|aRgTLb5EbiQ|         26|   2643|  22165|        12|       259|      400|      735|         29|    23188| 11.39813696739693|0.051750905640848714|20.670362695105652|\n",
      "|dInwVhRtN4E|          1|  61164|2629650|      2890|      9409|      699|       63|         13|  2639135|2.3175775396105163| 0.10950557663779988|35.938940405865985|\n",
      "|eHq6ZA6uKOg|         24|    404|  50747|       128|       112|      171|      797|        138|    51794|0.7800131289338533| 0.24713287253349808|1.3246550023784638|\n",
      "|g_ekn1gjBq0|         26|    213|   9534|        10|        32|       31|       47|         22|     9635| 2.210690192008303| 0.10378827192527244| 2.952295140838415|\n",
      "|rn5Xgak1zzA|         22|  20888| 283819|       511|      3837|      200|       14|          7|   287677| 7.260921102486469| 0.17762977227932716| 38.64628430295592|\n",
      "|tUXLO8Dtvq4|         27|   7781| 445638|       731|      2482|      200|       26|          2|   448148|1.7362567723162883| 0.16311575640190296|10.648061526771729|\n",
      "|xNddRhpx5tA|          1|  23072| 969749|       447|      3871|      500|       85|          9|   973714| 2.369484263346321| 0.04590670361112195| 23.04578997487814|\n",
      "|xPS7bqBePSs|         10|   2282|  35945|        17|       144|      300|     1037|         28|    37154| 6.142003552780319| 0.04575550411799537|13.237985442393446|\n",
      "|CAQ2wWVlOuc|         28|    661|  66230|       153|       203|      288|      923|         43|    67399|0.9807267170136056|  0.2270063354055698|2.0969010353901267|\n",
      "|G3fZBW_okks|         17|  12370| 283862|        96|       429|      500|      369|         66|   284726| 4.344527721388282|  0.0337166258086722| 23.40282132934432|\n",
      "|L6KZ6egpKGM|         10|   4400| 144507|       138|       312|      299|      455|        153|   145427|3.0255729678807923| 0.09489297035626122|11.553980558335118|\n",
      "+-----------+-----------+-------+-------+----------+----------+---------+---------+-----------+---------+------------------+--------------------+------------------+\n",
      "only showing top 20 rows\n",
      "\n",
      "dfShow function took 2129.189 ms\n"
     ]
    }
   ],
   "source": [
    "print(\"Bucketed:\\n\")\n",
    "dfShow( scored_videos )\n",
    "print(\"\\n\\nNon-bucketed:\\n\")\n",
    "dfShow( scored_videos_nonbucketed )"
   ]
  },
  {
   "cell_type": "code",
   "execution_count": null,
   "id": "b2de587e-5eff-43c3-ae64-7033a4879957",
   "metadata": {},
   "outputs": [],
   "source": []
  },
  {
   "cell_type": "code",
   "execution_count": 97,
   "id": "d1cd4a80-7819-44c9-b778-ce950c0636b5",
   "metadata": {},
   "outputs": [],
   "source": [
    "#\n",
    "# 2. categories_score\n",
    "#\n",
    "# Выбор джойна: Broadcast из-за маленького categories"
   ]
  },
  {
   "cell_type": "code",
   "execution_count": 98,
   "id": "dff7971f-329b-4e1e-b1e4-f35811fc00e9",
   "metadata": {},
   "outputs": [],
   "source": [
    "@pandas_udf(DoubleType())\n",
    "def pandas_median_udf( agg_df: pd.Series) -> float:\n",
    "    return agg_df.mean()"
   ]
  },
  {
   "cell_type": "code",
   "execution_count": 99,
   "id": "9a825b0a-26c2-4853-bb80-535b86ee3913",
   "metadata": {},
   "outputs": [
    {
     "name": "stdout",
     "output_type": "stream",
     "text": [
      "+--------------------+------------------+\n",
      "|               title|    category_score|\n",
      "+--------------------+------------------+\n",
      "|              Comedy|40.181263578596386|\n",
      "|               Music|39.092901033993016|\n",
      "|       Howto & Style|30.475138427851846|\n",
      "|      People & Blogs|25.805464187614252|\n",
      "|       Entertainment| 20.65546215537229|\n",
      "|           Education|19.839263917424503|\n",
      "|    Film & Animation|18.761611241549065|\n",
      "|Science & Technology| 18.05447175762292|\n",
      "|      Pets & Animals|17.616609649290506|\n",
      "|              Gaming|17.072251620557175|\n",
      "|     Travel & Events|14.206129734242946|\n",
      "|    Autos & Vehicles|10.841859102784374|\n",
      "|              Sports|  8.37007224239672|\n",
      "|     News & Politics| 4.207622322354988|\n",
      "|Nonprofits & Acti...| 2.695436482782739|\n",
      "|               Shows|1.6231780562460565|\n",
      "+--------------------+------------------+\n",
      "\n"
     ]
    }
   ],
   "source": [
    "categories_bcs = broadcast( categories ).select(\"id\",\"title\")\n",
    "\n",
    "categories_score = (\n",
    "    scored_videos.select(\"video_id\",\"category_id\",\"score\")\n",
    "    .join( categories, categories_bcs['id'] == scored_videos['category_id'])\n",
    "    .groupby(\"category_id\",\"title\")\n",
    "      .agg( pandas_median_udf( col(\"score\")).alias(\"category_score\"))\n",
    "    .drop(\"category_id\")\n",
    "    .sort( col(\"category_score\").desc() )\n",
    ")\n",
    "\n",
    "categories_score.show()"
   ]
  },
  {
   "cell_type": "code",
   "execution_count": null,
   "id": "190a1f37-89bb-4b35-b101-5badddf178bd",
   "metadata": {},
   "outputs": [],
   "source": []
  },
  {
   "cell_type": "code",
   "execution_count": 100,
   "id": "6d745d4a-df1b-4c33-8026-b99ba7a68082",
   "metadata": {},
   "outputs": [],
   "source": [
    "#\n",
    "# 3. popular_tags\n",
    "#\n",
    "# К моему удивлению, кардинальной разницы в скорости между разными вариантами UDF мной не замечено.\n",
    "# Вероятно, во всех случаях рекордсеты обрабатываются в одном массиве без переключения контекстов."
   ]
  },
  {
   "cell_type": "code",
   "execution_count": 101,
   "id": "86ef0a9f-5985-43f2-9f38-54b60714c72f",
   "metadata": {},
   "outputs": [],
   "source": [
    "def udfSplitScalaWrapper(field):\n",
    "  _scala_split = spark._jvm.CustomUDFs.splitTagsUDF()\n",
    "  return Column( _scala_split.apply( _to_seq( spark, [field], _to_java_column)))"
   ]
  },
  {
   "cell_type": "code",
   "execution_count": 102,
   "id": "ebcce03b-158c-4ba6-be88-a0c40e5bf75a",
   "metadata": {},
   "outputs": [],
   "source": [
    "def split_func(a: pd.Series) -> pd.Series:\n",
    "  return a.str.split(\"|\")\n",
    "udfSplitPandasWrapper = pandas_udf( split_func, returnType = ArrayType( StringType()))"
   ]
  },
  {
   "cell_type": "code",
   "execution_count": 103,
   "id": "3386de08-e5bd-4da6-bba2-a185873e2486",
   "metadata": {},
   "outputs": [],
   "source": [
    "def split_str(s):\n",
    "  return s.split(\"|\")\n",
    "udfSplitPythonWrapper = udf( split_str, ArrayType( StringType()))"
   ]
  },
  {
   "cell_type": "code",
   "execution_count": 104,
   "id": "4ecde80f-52e6-4010-8dc4-32ec279e1b5e",
   "metadata": {},
   "outputs": [
    {
     "name": "stdout",
     "output_type": "stream",
     "text": [
      "Scala:\n",
      "\n",
      "dfCollect function took 3175.726 ms\n",
      "+---------+-----+\n",
      "|      tag|count|\n",
      "+---------+-----+\n",
      "|    funny|  722|\n",
      "|   comedy|  572|\n",
      "|   [none]|  491|\n",
      "|     2017|  309|\n",
      "|   how to|  284|\n",
      "|     vlog|  273|\n",
      "|    humor|  258|\n",
      "|   makeup|  254|\n",
      "|    music|  250|\n",
      "| tutorial|  235|\n",
      "|     food|  224|\n",
      "|    video|  219|\n",
      "|   review|  218|\n",
      "|celebrity|  211|\n",
      "|     news|  211|\n",
      "|   beauty|  210|\n",
      "|interview|  209|\n",
      "|  science|  197|\n",
      "|      Pop|  190|\n",
      "|  trailer|  180|\n",
      "+---------+-----+\n",
      "only showing top 20 rows\n",
      "\n",
      "dfShow function took 1074.809 ms\n",
      "\n",
      "\n",
      "Pandas:\n",
      "\n",
      "dfCollect function took 3081.661 ms\n",
      "+---------+-----+\n",
      "|      tag|count|\n",
      "+---------+-----+\n",
      "|    funny|  722|\n",
      "|   comedy|  572|\n",
      "|   [none]|  491|\n",
      "|     2017|  309|\n",
      "|   how to|  284|\n",
      "|     vlog|  273|\n",
      "|    humor|  258|\n",
      "|   makeup|  254|\n",
      "|    music|  250|\n",
      "| tutorial|  235|\n",
      "|     food|  224|\n",
      "|    video|  219|\n",
      "|   review|  218|\n",
      "|celebrity|  211|\n",
      "|     news|  211|\n",
      "|   beauty|  210|\n",
      "|interview|  209|\n",
      "|  science|  197|\n",
      "|      Pop|  190|\n",
      "|  trailer|  180|\n",
      "+---------+-----+\n",
      "only showing top 20 rows\n",
      "\n",
      "dfShow function took 1228.837 ms\n",
      "\n",
      "\n",
      "Python:\n",
      "\n",
      "dfCollect function took 3066.890 ms\n",
      "+---------+-----+\n",
      "|      tag|count|\n",
      "+---------+-----+\n",
      "|    funny|  722|\n",
      "|   comedy|  572|\n",
      "|   [none]|  491|\n",
      "|     2017|  309|\n",
      "|   how to|  284|\n",
      "|     vlog|  273|\n",
      "|    humor|  258|\n",
      "|   makeup|  254|\n",
      "|    music|  250|\n",
      "| tutorial|  235|\n",
      "|     food|  224|\n",
      "|    video|  219|\n",
      "|   review|  218|\n",
      "|celebrity|  211|\n",
      "|     news|  211|\n",
      "|   beauty|  210|\n",
      "|interview|  209|\n",
      "|  science|  197|\n",
      "|      Pop|  190|\n",
      "|  trailer|  180|\n",
      "+---------+-----+\n",
      "only showing top 20 rows\n",
      "\n",
      "dfShow function took 1149.697 ms\n"
     ]
    }
   ],
   "source": [
    "popular_tags_scala = videos.select( explode( udfSplitScalaWrapper( col('tags'))).alias(\"tag\") ).groupby( col('tag') ).count().sort(col(\"count\").desc())\n",
    "popular_tags_pandas = videos.select( explode( udfSplitPandasWrapper( col('tags'))).alias(\"tag\") ).groupby( col('tag') ).count().sort(col(\"count\").desc())\n",
    "popular_tags_python = videos.select( explode( udfSplitPythonWrapper( col('tags'))).alias(\"tag\") ).groupby( col('tag') ).count().sort(col(\"count\").desc())\n",
    "\n",
    "print(\"Scala:\\n\")\n",
    "dfCollect( popular_tags_scala )\n",
    "dfShow( popular_tags_scala )\n",
    "print(\"\\n\\nPandas:\\n\")\n",
    "dfCollect( popular_tags_pandas )\n",
    "dfShow( popular_tags_pandas )\n",
    "print(\"\\n\\nPython:\\n\")\n",
    "dfCollect( popular_tags_python )\n",
    "dfShow( popular_tags_python )"
   ]
  },
  {
   "cell_type": "code",
   "execution_count": null,
   "id": "5563cf3b-46a0-42c9-b6cd-57204947d10e",
   "metadata": {},
   "outputs": [],
   "source": []
  },
  {
   "cell_type": "code",
   "execution_count": 105,
   "id": "f94b2878-398b-48df-98ff-57891ede12b3",
   "metadata": {},
   "outputs": [],
   "source": [
    "#\n",
    "# 4. cat_top5_comments\n",
    "#\n",
    "#  *  Выбор джойна: соединяются два больших рекордсета, наподобие, как в п.1 (scored_videos), так что все почти рассуждения справедливы и здесь. За исключением\n",
    "#      фильтра Блума, т.к. в итоге надо соединить большУю, но все же подчасть videos - те, которые с котиками.\n",
    "#  *  \"хочет найти самые интересные комментарии (топ-5)\" - интересность я определяю, как сумму лайков и реплаев.\n",
    "#\n",
    "#  * В случае реализации Блум-фильтра возникает ошибка, с которой, к сожалению, я не смоог соаладать (см. комментарий ниже)\n",
    "#"
   ]
  },
  {
   "cell_type": "code",
   "execution_count": 106,
   "id": "5c29d048-a813-4703-b340-aeb81a544c0d",
   "metadata": {},
   "outputs": [
    {
     "name": "stdout",
     "output_type": "stream",
     "text": [
      "Без Блума:\n",
      "\n",
      "+-----------+-------+--------------------+-----+-------+\n",
      "|   video_id|cat_tag|        comment_text|likes|replies|\n",
      "+-----------+-------+--------------------+-----+-------+\n",
      "|eJB1gcydsbU|      1|thnks s mch fr wt...| 9197|    351|\n",
      "|C25qzDhGLx8|      1|Whenever Kurzgesa...| 4541|    243|\n",
      "|C25qzDhGLx8|      1|Whenever Kurzgesa...| 3648|    190|\n",
      "|rl4ofGm2aNI|      2|Who do you think ...| 2592|    382|\n",
      "|rl4ofGm2aNI|      2|Who do you think ...| 2529|    371|\n",
      "+-----------+-------+--------------------+-----+-------+\n",
      "\n",
      "dfShow function took 1979.245 ms\n"
     ]
    }
   ],
   "source": [
    "# Без Блюма\n",
    "cat_top5_comments_bucketed = (\n",
    "    videos_bucketed.select(\"video_id\", explode( udfSplitScalaWrapper( col('tags'))).alias(\"tag\") )\n",
    "    .groupBy(\"video_id\")\n",
    "    .agg(\n",
    "      sum( expr(\"case when tag like '%cat%' then 1 else 0 end\")).alias(\"cat_tag\")\n",
    "    )\n",
    "    .where( col(\"cat_tag\") > lit(0))\n",
    "    .join( comments_bucketed,'video_id','left')\n",
    "    .sort( expr(\"likes + replies\").desc())\n",
    "    .limit(5)\n",
    ")\n",
    "\n",
    "print(\"Без Блума:\\n\")\n",
    "dfShow( cat_top5_comments_bucketed )"
   ]
  },
  {
   "cell_type": "code",
   "execution_count": 107,
   "id": "303d1dc9-309d-4dad-a3c7-7e44e725f774",
   "metadata": {},
   "outputs": [],
   "source": [
    "# !pip install --no-cache-dir mmh3 bitarray"
   ]
  },
  {
   "cell_type": "code",
   "execution_count": 108,
   "id": "1d250f7c-01b8-49df-8bea-657737983eed",
   "metadata": {},
   "outputs": [],
   "source": [
    "import math\n",
    "import mmh3\n",
    "from bitarray import bitarray\n",
    "  \n",
    "class BloomFilter(object):\n",
    "  \n",
    "    '''\n",
    "    Class for Bloom filter, using murmur3 hash function\n",
    "    '''\n",
    "  \n",
    "    def __init__(self, items_count, fp_prob):\n",
    "        '''\n",
    "        items_count : int\n",
    "            Number of items expected to be stored in bloom filter\n",
    "        fp_prob : float\n",
    "            False Positive probability in decimal\n",
    "        '''\n",
    "        self.items_count = items_count\n",
    "        \n",
    "        # False possible probability in decimal\n",
    "        self.fp_prob = fp_prob\n",
    "  \n",
    "        # Size of bit array to use\n",
    "        self.size = self.get_size(items_count, fp_prob)\n",
    "  \n",
    "        # number of hash functions to use\n",
    "        self.hash_count = self.get_hash_count(self.size, items_count)\n",
    "  \n",
    "        # Bit array of given size\n",
    "        self.bit_array = bitarray(self.size)\n",
    "  \n",
    "        # initialize all bits as 0\n",
    "        self.bit_array.setall(0)\n",
    "  \n",
    "    def add(self, item):\n",
    "        '''\n",
    "        Add an item in the filter\n",
    "        '''\n",
    "        digests = []\n",
    "        for i in range(self.hash_count):\n",
    "  \n",
    "            # create digest for given item.\n",
    "            # i work as seed to mmh3.hash() function\n",
    "            # With different seed, digest created is different\n",
    "            digest = mmh3.hash(item, i) % self.size\n",
    "            digests.append(digest)\n",
    "  \n",
    "            # set the bit True in bit_array\n",
    "            self.bit_array[digest] = True\n",
    "        \n",
    "    def union(self, other):\n",
    "        \"\"\" Calculates the union of the two underlying bitarrays and returns\n",
    "        a new bloom filter object.\"\"\"\n",
    "        new_bloom = self.copy()\n",
    "        new_bloom.bit_array = new_bloom.bit_array | other.bit_array\n",
    "        return new_bloom\n",
    "  \n",
    "    def check(self, item):\n",
    "        '''\n",
    "        Check for existence of an item in filter\n",
    "        '''\n",
    "        for i in range(self.hash_count):\n",
    "            digest = mmh3.hash(item, i) % self.size\n",
    "            if self.bit_array[digest] == False:\n",
    "  \n",
    "                # if any of bit is False then,its not present\n",
    "                # in filter\n",
    "                # else there is probability that it exist\n",
    "                return False\n",
    "        return True\n",
    "    \n",
    "    def copy(self):\n",
    "        \"\"\"Return a copy of this bloom filter.\n",
    "        \"\"\"\n",
    "        new_filter = BloomFilter(self.items_count, self.fp_prob)\n",
    "        new_filter.bit_array = self.bit_array.copy()\n",
    "        return new_filter\n",
    "    \n",
    "    def set_bit_array(self, bit_array):\n",
    "        self.bit_array = bit_array\n",
    "  \n",
    "    @classmethod\n",
    "    def get_size(self, n, p):\n",
    "        '''\n",
    "        Return the size of bit array(m) to used using\n",
    "        following formula\n",
    "        m = -(n * lg(p)) / (lg(2)^2)\n",
    "        n : int\n",
    "            number of items expected to be stored in filter\n",
    "        p : float\n",
    "            False Positive probability in decimal\n",
    "        '''\n",
    "        m = -(n * math.log(p))/(math.log(2)**2)\n",
    "        return int(m)\n",
    "  \n",
    "    @classmethod\n",
    "    def get_hash_count(self, m, n):\n",
    "        '''\n",
    "        Return the hash function(k) to be used using\n",
    "        following formula\n",
    "        k = (m/n) * lg(2)\n",
    "  \n",
    "        m : int\n",
    "            size of bit array\n",
    "        n : int\n",
    "            number of items expected to be stored in filter\n",
    "        '''\n",
    "        k = (m/n) * math.log(2)\n",
    "        return int(k)"
   ]
  },
  {
   "cell_type": "code",
   "execution_count": 109,
   "id": "577f7f2c-83e0-48a3-9f37-f54537b70ac4",
   "metadata": {},
   "outputs": [],
   "source": [
    "cats_videos = (\n",
    "    videos_bucketed.select(\"video_id\", explode( udfSplitScalaWrapper( col('tags'))).alias(\"tag\") )\n",
    "    .groupBy(\"video_id\")\n",
    "    .agg(\n",
    "      sum( expr(\"case when tag like '%cat%' then 1 else 0 end\")).alias(\"cat_tag\")\n",
    "    )\n",
    "    .where( col(\"cat_tag\") > lit(0))\n",
    "    .persist(pyspark.StorageLevel.DISK_ONLY)\n",
    ")\n",
    "#cats_videos.show()"
   ]
  },
  {
   "cell_type": "code",
   "execution_count": 110,
   "id": "bc6b89e8-201a-4ae7-85ba-c1db0f3fd324",
   "metadata": {},
   "outputs": [],
   "source": [
    "# Создаем фильтр\n",
    "\n",
    "filterSize = 3177\n",
    "prob = 0.05\n",
    "\n",
    "def fill_bloom_filter(bf, items):\n",
    "    for i in items:\n",
    "        bf.add( i[0] )\n",
    "        #print ( i[0])\n",
    "    return bf\n",
    "\n",
    "bloom_filter = BloomFilter( filterSize, prob)"
   ]
  },
  {
   "cell_type": "code",
   "execution_count": 111,
   "id": "027441b2-633c-4ac0-9cd8-222df730c334",
   "metadata": {},
   "outputs": [
    {
     "data": {
      "text/plain": [
       "19809"
      ]
     },
     "execution_count": 111,
     "metadata": {},
     "output_type": "execute_result"
    }
   ],
   "source": [
    "g = fill_bloom_filter( BloomFilter( filterSize, prob), ('GuEQtn2nm9A','xwW0VfkFljE','DUMEmGUc7yc'))\n",
    "len( g.bit_array )"
   ]
  },
  {
   "cell_type": "code",
   "execution_count": 112,
   "id": "b44738fc-ab20-4587-bdf3-9e1ab6616f9c",
   "metadata": {},
   "outputs": [],
   "source": [
    "#\n",
    "#\n",
    "# Здесь возникает ошибка, с которой, к сожалению, я не смоог соаладать. Почему-то в reduce() после map() приезжают объекты Блум-фильтров\n",
    "#   без свойства bit_array, т.е. как-будто бы нулевые и не прошедшие функцию fill_bloom_filter(). Которая сама по себе работает на первый взгляд\n",
    "#   нормально (см. предыдущую ячейку)   \n",
    "#"
   ]
  },
  {
   "cell_type": "code",
   "execution_count": 113,
   "id": "6a8e3864-e323-4fa8-923a-9ab7b8d84c29",
   "metadata": {},
   "outputs": [],
   "source": [
    "general_bit_array = cats_videos.select(col('video_id')).rdd \\\n",
    "    .mapPartitions(lambda p: [fill_bloom_filter( BloomFilter( filterSize, prob), p).bit_array]) \\\n",
    "    .reduce(lambda a, b: a | b)\n",
    "\n",
    "bloom_filter.set_bit_array(general_bit_array)\n",
    "\n",
    "maybe_in_bf = udf(lambda video_id: bloom_filter.check( video_id))"
   ]
  },
  {
   "cell_type": "code",
   "execution_count": 114,
   "id": "fde9998a-0d12-4689-8b22-fa821a7c62c4",
   "metadata": {},
   "outputs": [
    {
     "name": "stdout",
     "output_type": "stream",
     "text": [
      "Количество комментов всего: 691318\n",
      "\n",
      "Количество комментов, прошедших Блум: 38237\n"
     ]
    }
   ],
   "source": [
    "comments_bloomed = comments_bucketed.filter( maybe_in_bf( col('video_id')) == True)\n",
    "\n",
    "print(f\"Количество комментов всего: {comments_bucketed.count()}\")\n",
    "print(f\"\\nКоличество комментов, прошедших Блум: {comments_bloomed.count()}\")"
   ]
  },
  {
   "cell_type": "code",
   "execution_count": 115,
   "id": "2e5c04dd-d3a5-4953-8c1c-b52b90987de0",
   "metadata": {},
   "outputs": [],
   "source": [
    "# С Блумом\n",
    "cat_top5_comments_bloomed = (\n",
    "    videos_bucketed.select(\"video_id\", explode( udfSplitScalaWrapper( col('tags'))).alias(\"tag\") )\n",
    "    .groupBy(\"video_id\")\n",
    "    .agg(\n",
    "      sum( expr(\"case when tag like '%cat%' then 1 else 0 end\")).alias(\"cat_tag\")\n",
    "    )\n",
    "    .where( col(\"cat_tag\") > lit(0))\n",
    "    .join( comments_bloomed,'video_id','left')\n",
    "    .sort( expr(\"likes + replies\").desc())\n",
    "    .limit(5)\n",
    ")"
   ]
  },
  {
   "cell_type": "code",
   "execution_count": 116,
   "id": "a4d437d0-826b-4f06-9df7-7bd4db0e27e9",
   "metadata": {},
   "outputs": [
    {
     "name": "stdout",
     "output_type": "stream",
     "text": [
      "C Блумом:\n",
      "\n",
      "+-----------+-------+--------------------+-----+-------+\n",
      "|   video_id|cat_tag|        comment_text|likes|replies|\n",
      "+-----------+-------+--------------------+-----+-------+\n",
      "|eJB1gcydsbU|      1|thnks s mch fr wt...| 9197|    351|\n",
      "|C25qzDhGLx8|      1|Whenever Kurzgesa...| 4541|    243|\n",
      "|C25qzDhGLx8|      1|Whenever Kurzgesa...| 3648|    190|\n",
      "|rl4ofGm2aNI|      2|Who do you think ...| 2592|    382|\n",
      "|rl4ofGm2aNI|      2|Who do you think ...| 2529|    371|\n",
      "+-----------+-------+--------------------+-----+-------+\n",
      "\n",
      "dfShow function took 1786.810 ms\n"
     ]
    }
   ],
   "source": [
    "print(\"C Блумом:\\n\")\n",
    "dfShow( cat_top5_comments_bucketed )"
   ]
  },
  {
   "cell_type": "code",
   "execution_count": null,
   "id": "6a1352c9-bc20-4e25-9abf-71c4a1f7bbbf",
   "metadata": {},
   "outputs": [],
   "source": []
  },
  {
   "cell_type": "code",
   "execution_count": null,
   "id": "86f58744-4414-4b49-a1d7-33c1621767c6",
   "metadata": {},
   "outputs": [],
   "source": []
  },
  {
   "cell_type": "code",
   "execution_count": 78,
   "id": "ef6a2c16-0cdc-4695-ab88-2a4bbda7aad3",
   "metadata": {},
   "outputs": [],
   "source": [
    "spark.stop()"
   ]
  },
  {
   "cell_type": "code",
   "execution_count": null,
   "id": "da939666-ac28-4b89-bfdb-e21158af84bd",
   "metadata": {},
   "outputs": [],
   "source": []
  }
 ],
 "metadata": {
  "kernelspec": {
   "display_name": "Python 3 (ipykernel)",
   "language": "python",
   "name": "python3"
  },
  "language_info": {
   "codemirror_mode": {
    "name": "ipython",
    "version": 3
   },
   "file_extension": ".py",
   "mimetype": "text/x-python",
   "name": "python",
   "nbconvert_exporter": "python",
   "pygments_lexer": "ipython3",
   "version": "3.11.4"
  }
 },
 "nbformat": 4,
 "nbformat_minor": 5
}
